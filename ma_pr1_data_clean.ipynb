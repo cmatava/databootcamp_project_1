{
 "metadata": {
  "language_info": {
   "codemirror_mode": {
    "name": "ipython",
    "version": 3
   },
   "file_extension": ".py",
   "mimetype": "text/x-python",
   "name": "python",
   "nbconvert_exporter": "python",
   "pygments_lexer": "ipython3",
   "version": "3.6.10-final"
  },
  "orig_nbformat": 2,
  "kernelspec": {
   "name": "python3",
   "display_name": "Python 3",
   "language": "python"
  }
 },
 "nbformat": 4,
 "nbformat_minor": 2,
 "cells": [
  {
   "cell_type": "code",
   "execution_count": 60,
   "metadata": {},
   "outputs": [],
   "source": [
    "import pandas as pd"
   ]
  },
  {
   "source": [
    "Using pandas to clean the natural gas data"
   ],
   "cell_type": "markdown",
   "metadata": {}
  },
  {
   "cell_type": "code",
   "execution_count": 61,
   "metadata": {},
   "outputs": [],
   "source": [
    "file_path = '../raw_data/10yr_gas_data.csv'\n",
    "# read in csv\n",
    "df = pd.read_csv(file_path)"
   ]
  },
  {
   "cell_type": "code",
   "execution_count": 62,
   "metadata": {},
   "outputs": [],
   "source": [
    "dates = []\n",
    "states = []\n",
    "values = []\n",
    "\n",
    "# loop through columns of columns (DC is included so there are 51 state columns)\n",
    "for i in range(1,52):\n",
    "\n",
    "   #loop through rows\n",
    "    for j in range(0,132): \n",
    "        date = df.iloc[j,0] # gets date from first column\n",
    "        dates.append(date)  # adds date to dates list\n",
    "\n",
    "        state_str = df.columns[i] # gets column title\n",
    "        state_str = state_str.split(' Natural', 1) #splits the title at the first occurence of the word 'natural'\n",
    "        state = state_str[0] # saves the state name \n",
    "        states.append(state) # adds the state to the states list\n",
    "\n",
    "        value = df.iloc[j,i] # retrieves the value from the current row,value pair\n",
    "        values.append(value) # adds the value to the values list \n",
    "       \n",
    "\n"
   ]
  },
  {
   "cell_type": "code",
   "execution_count": 63,
   "metadata": {},
   "outputs": [
    {
     "output_type": "execute_result",
     "data": {
      "text/plain": [
       "          Date    State  Natural Gas Consumption (MMcf)\n",
       "0     Jan-2010  Alabama                        9202.647\n",
       "1     Feb-2010  Alabama                        7762.261\n",
       "2     Mar-2010  Alabama                        6612.051\n",
       "3     Apr-2010  Alabama                        2987.217\n",
       "4     May-2010  Alabama                        1142.784\n",
       "...        ...      ...                             ...\n",
       "6727  Aug-2020  Wyoming                         199.347\n",
       "6728  Sep-2020  Wyoming                         289.642\n",
       "6729  Oct-2020  Wyoming                         567.622\n",
       "6730  Nov-2020  Wyoming                        1532.600\n",
       "6731  Dec-2020  Wyoming                        2151.153\n",
       "\n",
       "[6732 rows x 3 columns]"
      ],
      "text/html": "<div>\n<style scoped>\n    .dataframe tbody tr th:only-of-type {\n        vertical-align: middle;\n    }\n\n    .dataframe tbody tr th {\n        vertical-align: top;\n    }\n\n    .dataframe thead th {\n        text-align: right;\n    }\n</style>\n<table border=\"1\" class=\"dataframe\">\n  <thead>\n    <tr style=\"text-align: right;\">\n      <th></th>\n      <th>Date</th>\n      <th>State</th>\n      <th>Natural Gas Consumption (MMcf)</th>\n    </tr>\n  </thead>\n  <tbody>\n    <tr>\n      <th>0</th>\n      <td>Jan-2010</td>\n      <td>Alabama</td>\n      <td>9202.647</td>\n    </tr>\n    <tr>\n      <th>1</th>\n      <td>Feb-2010</td>\n      <td>Alabama</td>\n      <td>7762.261</td>\n    </tr>\n    <tr>\n      <th>2</th>\n      <td>Mar-2010</td>\n      <td>Alabama</td>\n      <td>6612.051</td>\n    </tr>\n    <tr>\n      <th>3</th>\n      <td>Apr-2010</td>\n      <td>Alabama</td>\n      <td>2987.217</td>\n    </tr>\n    <tr>\n      <th>4</th>\n      <td>May-2010</td>\n      <td>Alabama</td>\n      <td>1142.784</td>\n    </tr>\n    <tr>\n      <th>...</th>\n      <td>...</td>\n      <td>...</td>\n      <td>...</td>\n    </tr>\n    <tr>\n      <th>6727</th>\n      <td>Aug-2020</td>\n      <td>Wyoming</td>\n      <td>199.347</td>\n    </tr>\n    <tr>\n      <th>6728</th>\n      <td>Sep-2020</td>\n      <td>Wyoming</td>\n      <td>289.642</td>\n    </tr>\n    <tr>\n      <th>6729</th>\n      <td>Oct-2020</td>\n      <td>Wyoming</td>\n      <td>567.622</td>\n    </tr>\n    <tr>\n      <th>6730</th>\n      <td>Nov-2020</td>\n      <td>Wyoming</td>\n      <td>1532.600</td>\n    </tr>\n    <tr>\n      <th>6731</th>\n      <td>Dec-2020</td>\n      <td>Wyoming</td>\n      <td>2151.153</td>\n    </tr>\n  </tbody>\n</table>\n<p>6732 rows × 3 columns</p>\n</div>"
     },
     "metadata": {},
     "execution_count": 63
    }
   ],
   "source": [
    "df_clean = pd.DataFrame({\n",
    "    'Date': dates,\n",
    "    'State': states,\n",
    "    'Natural Gas Consumption (MMcf)':values\n",
    "})\n",
    "\n",
    "df_clean"
   ]
  },
  {
   "cell_type": "code",
   "execution_count": 64,
   "metadata": {},
   "outputs": [],
   "source": [
    "output_path = 'clean_data/natural_gas_data.csv'\n",
    "\n",
    "df_clean.to_csv(output_path)"
   ]
  },
  {
   "source": [
    "Cleaning temperature data"
   ],
   "cell_type": "markdown",
   "metadata": {}
  },
  {
   "cell_type": "code",
   "execution_count": 65,
   "metadata": {},
   "outputs": [],
   "source": [
    "file_path = 'all_states_ave_temp.csv'\n",
    "# read in csv \n",
    "df2 = pd.read_csv(file_path)\n"
   ]
  },
  {
   "cell_type": "code",
   "execution_count": 66,
   "metadata": {},
   "outputs": [
    {
     "output_type": "execute_result",
     "data": {
      "text/plain": [
       "                     Alabama Unnamed: 1  Average Temperature Unnamed: 3\n",
       "0  Units: Degrees Fahrenheit        NaN                  NaN        NaN\n",
       "1     Base Period: 2010-2020        NaN                  NaN        NaN\n",
       "2               Missing: -99        NaN                  NaN        NaN\n",
       "3                       Date        NaN                Value    Anomaly\n",
       "4                     200001    Alabama                 46.5        1.6"
      ],
      "text/html": "<div>\n<style scoped>\n    .dataframe tbody tr th:only-of-type {\n        vertical-align: middle;\n    }\n\n    .dataframe tbody tr th {\n        vertical-align: top;\n    }\n\n    .dataframe thead th {\n        text-align: right;\n    }\n</style>\n<table border=\"1\" class=\"dataframe\">\n  <thead>\n    <tr style=\"text-align: right;\">\n      <th></th>\n      <th>Alabama</th>\n      <th>Unnamed: 1</th>\n      <th>Average Temperature</th>\n      <th>Unnamed: 3</th>\n    </tr>\n  </thead>\n  <tbody>\n    <tr>\n      <th>0</th>\n      <td>Units: Degrees Fahrenheit</td>\n      <td>NaN</td>\n      <td>NaN</td>\n      <td>NaN</td>\n    </tr>\n    <tr>\n      <th>1</th>\n      <td>Base Period: 2010-2020</td>\n      <td>NaN</td>\n      <td>NaN</td>\n      <td>NaN</td>\n    </tr>\n    <tr>\n      <th>2</th>\n      <td>Missing: -99</td>\n      <td>NaN</td>\n      <td>NaN</td>\n      <td>NaN</td>\n    </tr>\n    <tr>\n      <th>3</th>\n      <td>Date</td>\n      <td>NaN</td>\n      <td>Value</td>\n      <td>Anomaly</td>\n    </tr>\n    <tr>\n      <th>4</th>\n      <td>200001</td>\n      <td>Alabama</td>\n      <td>46.5</td>\n      <td>1.6</td>\n    </tr>\n  </tbody>\n</table>\n</div>"
     },
     "metadata": {},
     "execution_count": 66
    }
   ],
   "source": [
    "df2.head()"
   ]
  },
  {
   "cell_type": "code",
   "execution_count": 67,
   "metadata": {},
   "outputs": [],
   "source": [
    "# drop NaN values from the dataframe\n",
    "df2.dropna(how='any', inplace=True)"
   ]
  },
  {
   "cell_type": "code",
   "execution_count": 68,
   "metadata": {},
   "outputs": [
    {
     "output_type": "execute_result",
     "data": {
      "text/plain": [
       "     Date    State  Average Temperature Anomaly\n",
       "0  200001  Alabama                 46.5     1.6\n",
       "1  200002  Alabama                 52.3     2.5\n",
       "2  200003  Alabama                 58.9     2.7\n",
       "3  200004  Alabama                 60.1    -3.8\n",
       "4  200005  Alabama                   74     2.4"
      ],
      "text/html": "<div>\n<style scoped>\n    .dataframe tbody tr th:only-of-type {\n        vertical-align: middle;\n    }\n\n    .dataframe tbody tr th {\n        vertical-align: top;\n    }\n\n    .dataframe thead th {\n        text-align: right;\n    }\n</style>\n<table border=\"1\" class=\"dataframe\">\n  <thead>\n    <tr style=\"text-align: right;\">\n      <th></th>\n      <th>Date</th>\n      <th>State</th>\n      <th>Average Temperature</th>\n      <th>Anomaly</th>\n    </tr>\n  </thead>\n  <tbody>\n    <tr>\n      <th>0</th>\n      <td>200001</td>\n      <td>Alabama</td>\n      <td>46.5</td>\n      <td>1.6</td>\n    </tr>\n    <tr>\n      <th>1</th>\n      <td>200002</td>\n      <td>Alabama</td>\n      <td>52.3</td>\n      <td>2.5</td>\n    </tr>\n    <tr>\n      <th>2</th>\n      <td>200003</td>\n      <td>Alabama</td>\n      <td>58.9</td>\n      <td>2.7</td>\n    </tr>\n    <tr>\n      <th>3</th>\n      <td>200004</td>\n      <td>Alabama</td>\n      <td>60.1</td>\n      <td>-3.8</td>\n    </tr>\n    <tr>\n      <th>4</th>\n      <td>200005</td>\n      <td>Alabama</td>\n      <td>74</td>\n      <td>2.4</td>\n    </tr>\n  </tbody>\n</table>\n</div>"
     },
     "metadata": {},
     "execution_count": 68
    }
   ],
   "source": [
    "# list of columns to rename\n",
    "column_names = {\n",
    "    'Unnamed: 1': 'State', \n",
    "    'Average Temperature': 'Avg Temp (F)',\n",
    "    'Unnamed: 3': 'Anomaly',\n",
    "    'Alabama' : 'Date'\n",
    "    }\n",
    "# renaming columns\n",
    "df2.rename(columns=column_names, inplace=True)\n",
    "#reseting index\n",
    "df2.reset_index(drop=True, inplace=True)\n",
    "df2.head()"
   ]
  },
  {
   "cell_type": "code",
   "execution_count": 69,
   "metadata": {},
   "outputs": [],
   "source": [
    "output_path = 'clean_data/avg_temp_by_state.csv'\n",
    "#output the clean data to csv file\n",
    "df2.to_csv(output_path)"
   ]
  },
  {
   "cell_type": "code",
   "execution_count": 70,
   "metadata": {},
   "outputs": [],
   "source": [
    "# file paths\n",
    "gas_file = 'clean_data/natural_gas_data.csv'\n",
    "weather_file = 'clean_data/avg_temp_by_state.csv'\n",
    "\n",
    "# import the files \n",
    "weather_df = pd.read_csv(weather_file)\n",
    "gas_df = pd.read_csv(gas_file)"
   ]
  },
  {
   "cell_type": "code",
   "execution_count": 73,
   "metadata": {},
   "outputs": [],
   "source": [
    "# droping the extra column that gets added\n",
    "gas_df.drop(columns='Unnamed: 0', inplace=True)\n",
    "weather_df.drop(columns='Unnamed: 0', inplace=True)\n"
   ]
  },
  {
   "cell_type": "code",
   "execution_count": 75,
   "metadata": {},
   "outputs": [],
   "source": [
    "# drop dates before 2010\n",
    "weather_df.drop(weather_df.loc[weather_df['Date'] < 201000].index, inplace=True)\n",
    "weather_df.drop(weather_df.loc[weather_df['Date'] >= 202000].index, inplace=True)"
   ]
  },
  {
   "cell_type": "code",
   "execution_count": 88,
   "metadata": {},
   "outputs": [
    {
     "output_type": "execute_result",
     "data": {
      "text/plain": [
       "5880"
      ]
     },
     "metadata": {},
     "execution_count": 88
    }
   ],
   "source": [
    "# drop 2020 (since its not in the weather data) as well as DC (for the same reason)\n",
    "# hawaii also had to be dropped from gas, as the data was not available via noaa\n",
    "gas_df.drop(gas_df.loc[gas_df['Date'].str.contains(\"2020\")].index, inplace=True)\n",
    "gas_df.drop(gas_df.loc[gas_df['State']=='District of Columbia'].index, inplace=True)\n",
    "gas_df.drop(gas_df.loc[gas_df['State']=='Hawaii'].index, inplace=True)\n",
    "len(gas_df)"
   ]
  },
  {
   "cell_type": "code",
   "execution_count": 91,
   "metadata": {},
   "outputs": [],
   "source": [
    "out_path_weath = 'output_data/avg_temp_by_state.csv'\n",
    "out_path_gas = 'output_data/natural_gas_data.csv'\n"
   ]
  },
  {
   "cell_type": "code",
   "execution_count": null,
   "metadata": {},
   "outputs": [],
   "source": [
    "# formatted_df = df[\"Date\"].dt.strftime(\"%m/%d/%y\")\n",
    "\n",
    "weather_df['Date'] = pd.to_datetime(weather_df['Date'], format='%Y%m')\n",
    "\n",
    "weather_df['Date'] = weather_df['Date'].apply(lambda x: x.strftime('%Y-%m'))"
   ]
  },
  {
   "cell_type": "code",
   "execution_count": 113,
   "metadata": {},
   "outputs": [],
   "source": [
    "gas_df['Date'] = pd.to_datetime(gas_df['Date'], format='%b-%Y')\n",
    "gas_df['Date'] = gas_df['Date'].apply(lambda x: x.strftime('%Y-%m'))"
   ]
  },
  {
   "cell_type": "code",
   "execution_count": 114,
   "metadata": {},
   "outputs": [
    {
     "output_type": "execute_result",
     "data": {
      "text/plain": [
       "      Date    State  Natural Gas Consumption (MMcf)\n",
       "0  2010-01  Alabama                        9202.647\n",
       "1  2010-02  Alabama                        7762.261\n",
       "2  2010-03  Alabama                        6612.051\n",
       "3  2010-04  Alabama                        2987.217\n",
       "4  2010-05  Alabama                        1142.784"
      ],
      "text/html": "<div>\n<style scoped>\n    .dataframe tbody tr th:only-of-type {\n        vertical-align: middle;\n    }\n\n    .dataframe tbody tr th {\n        vertical-align: top;\n    }\n\n    .dataframe thead th {\n        text-align: right;\n    }\n</style>\n<table border=\"1\" class=\"dataframe\">\n  <thead>\n    <tr style=\"text-align: right;\">\n      <th></th>\n      <th>Date</th>\n      <th>State</th>\n      <th>Natural Gas Consumption (MMcf)</th>\n    </tr>\n  </thead>\n  <tbody>\n    <tr>\n      <th>0</th>\n      <td>2010-01</td>\n      <td>Alabama</td>\n      <td>9202.647</td>\n    </tr>\n    <tr>\n      <th>1</th>\n      <td>2010-02</td>\n      <td>Alabama</td>\n      <td>7762.261</td>\n    </tr>\n    <tr>\n      <th>2</th>\n      <td>2010-03</td>\n      <td>Alabama</td>\n      <td>6612.051</td>\n    </tr>\n    <tr>\n      <th>3</th>\n      <td>2010-04</td>\n      <td>Alabama</td>\n      <td>2987.217</td>\n    </tr>\n    <tr>\n      <th>4</th>\n      <td>2010-05</td>\n      <td>Alabama</td>\n      <td>1142.784</td>\n    </tr>\n  </tbody>\n</table>\n</div>"
     },
     "metadata": {},
     "execution_count": 114
    }
   ],
   "source": [
    "gas_df.head()"
   ]
  },
  {
   "cell_type": "code",
   "execution_count": 115,
   "metadata": {},
   "outputs": [],
   "source": [
    "combined_df = pd.merge(gas_df, weather_df, how='outer')"
   ]
  },
  {
   "cell_type": "code",
   "execution_count": 116,
   "metadata": {},
   "outputs": [
    {
     "output_type": "execute_result",
     "data": {
      "text/plain": [
       "      Date    State  Natural Gas Consumption (MMcf)   Average Temperature  \\\n",
       "0  2010-01  Alabama                        9202.647                  40.0   \n",
       "1  2010-02  Alabama                        7762.261                  40.6   \n",
       "2  2010-03  Alabama                        6612.051                  51.2   \n",
       "3  2010-04  Alabama                        2987.217                  64.2   \n",
       "4  2010-05  Alabama                        1142.784                  73.3   \n",
       "\n",
       "   Anomaly  \n",
       "0     -4.9  \n",
       "1     -9.2  \n",
       "2     -5.0  \n",
       "3      0.3  \n",
       "4      1.7  "
      ],
      "text/html": "<div>\n<style scoped>\n    .dataframe tbody tr th:only-of-type {\n        vertical-align: middle;\n    }\n\n    .dataframe tbody tr th {\n        vertical-align: top;\n    }\n\n    .dataframe thead th {\n        text-align: right;\n    }\n</style>\n<table border=\"1\" class=\"dataframe\">\n  <thead>\n    <tr style=\"text-align: right;\">\n      <th></th>\n      <th>Date</th>\n      <th>State</th>\n      <th>Natural Gas Consumption (MMcf)</th>\n      <th>Average Temperature</th>\n      <th>Anomaly</th>\n    </tr>\n  </thead>\n  <tbody>\n    <tr>\n      <th>0</th>\n      <td>2010-01</td>\n      <td>Alabama</td>\n      <td>9202.647</td>\n      <td>40.0</td>\n      <td>-4.9</td>\n    </tr>\n    <tr>\n      <th>1</th>\n      <td>2010-02</td>\n      <td>Alabama</td>\n      <td>7762.261</td>\n      <td>40.6</td>\n      <td>-9.2</td>\n    </tr>\n    <tr>\n      <th>2</th>\n      <td>2010-03</td>\n      <td>Alabama</td>\n      <td>6612.051</td>\n      <td>51.2</td>\n      <td>-5.0</td>\n    </tr>\n    <tr>\n      <th>3</th>\n      <td>2010-04</td>\n      <td>Alabama</td>\n      <td>2987.217</td>\n      <td>64.2</td>\n      <td>0.3</td>\n    </tr>\n    <tr>\n      <th>4</th>\n      <td>2010-05</td>\n      <td>Alabama</td>\n      <td>1142.784</td>\n      <td>73.3</td>\n      <td>1.7</td>\n    </tr>\n  </tbody>\n</table>\n</div>"
     },
     "metadata": {},
     "execution_count": 116
    }
   ],
   "source": [
    "combined_df.head()"
   ]
  },
  {
   "cell_type": "code",
   "execution_count": 117,
   "metadata": {},
   "outputs": [
    {
     "output_type": "execute_result",
     "data": {
      "text/plain": [
       "5880"
      ]
     },
     "metadata": {},
     "execution_count": 117
    }
   ],
   "source": [
    "len(combined_df)"
   ]
  },
  {
   "cell_type": "code",
   "execution_count": null,
   "metadata": {},
   "outputs": [],
   "source": []
  }
 ]
}