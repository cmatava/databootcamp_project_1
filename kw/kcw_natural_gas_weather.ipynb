{
 "cells": [
  {
   "cell_type": "code",
   "execution_count": 1,
   "metadata": {},
   "outputs": [],
   "source": [
    "import pandas as pd"
   ]
  },
  {
   "cell_type": "code",
   "execution_count": 2,
   "metadata": {},
   "outputs": [],
   "source": [
    "#files to load\n",
    "natural_gas_file=\"natural_gas_data.csv\"\n",
    "weather_state_file=\"ave_temp_by_state.csv\""
   ]
  },
  {
   "cell_type": "code",
   "execution_count": 3,
   "metadata": {},
   "outputs": [],
   "source": [
    "nat_gas_csv= pd.read_csv(natural_gas_file)\n",
    "state_weather_csv= pd.read_csv(weather_state_file)"
   ]
  },
  {
   "cell_type": "code",
   "execution_count": 4,
   "metadata": {
    "scrolled": true
   },
   "outputs": [
    {
     "data": {
      "text/html": [
       "<div>\n",
       "<style scoped>\n",
       "    .dataframe tbody tr th:only-of-type {\n",
       "        vertical-align: middle;\n",
       "    }\n",
       "\n",
       "    .dataframe tbody tr th {\n",
       "        vertical-align: top;\n",
       "    }\n",
       "\n",
       "    .dataframe thead th {\n",
       "        text-align: right;\n",
       "    }\n",
       "</style>\n",
       "<table border=\"1\" class=\"dataframe\">\n",
       "  <thead>\n",
       "    <tr style=\"text-align: right;\">\n",
       "      <th></th>\n",
       "      <th>Unnamed: 0</th>\n",
       "      <th>Date</th>\n",
       "      <th>State</th>\n",
       "      <th>Natural Gas Consumption (MMcf)</th>\n",
       "    </tr>\n",
       "  </thead>\n",
       "  <tbody>\n",
       "    <tr>\n",
       "      <th>0</th>\n",
       "      <td>0</td>\n",
       "      <td>Jan-10</td>\n",
       "      <td>Alabama</td>\n",
       "      <td>9202.647</td>\n",
       "    </tr>\n",
       "    <tr>\n",
       "      <th>1</th>\n",
       "      <td>1</td>\n",
       "      <td>Feb-10</td>\n",
       "      <td>Alabama</td>\n",
       "      <td>7762.261</td>\n",
       "    </tr>\n",
       "    <tr>\n",
       "      <th>2</th>\n",
       "      <td>2</td>\n",
       "      <td>Mar-10</td>\n",
       "      <td>Alabama</td>\n",
       "      <td>6612.051</td>\n",
       "    </tr>\n",
       "    <tr>\n",
       "      <th>3</th>\n",
       "      <td>3</td>\n",
       "      <td>Apr-10</td>\n",
       "      <td>Alabama</td>\n",
       "      <td>2987.217</td>\n",
       "    </tr>\n",
       "    <tr>\n",
       "      <th>4</th>\n",
       "      <td>4</td>\n",
       "      <td>May-10</td>\n",
       "      <td>Alabama</td>\n",
       "      <td>1142.784</td>\n",
       "    </tr>\n",
       "  </tbody>\n",
       "</table>\n",
       "</div>"
      ],
      "text/plain": [
       "   Unnamed: 0    Date    State  Natural Gas Consumption (MMcf)\n",
       "0           0  Jan-10  Alabama                        9202.647\n",
       "1           1  Feb-10  Alabama                        7762.261\n",
       "2           2  Mar-10  Alabama                        6612.051\n",
       "3           3  Apr-10  Alabama                        2987.217\n",
       "4           4  May-10  Alabama                        1142.784"
      ]
     },
     "execution_count": 4,
     "metadata": {},
     "output_type": "execute_result"
    }
   ],
   "source": [
    "gas_df = pd.DataFrame(nat_gas_csv)\n",
    "gas_df.head()"
   ]
  },
  {
   "cell_type": "code",
   "execution_count": 5,
   "metadata": {},
   "outputs": [
    {
     "data": {
      "text/html": [
       "<div>\n",
       "<style scoped>\n",
       "    .dataframe tbody tr th:only-of-type {\n",
       "        vertical-align: middle;\n",
       "    }\n",
       "\n",
       "    .dataframe tbody tr th {\n",
       "        vertical-align: top;\n",
       "    }\n",
       "\n",
       "    .dataframe thead th {\n",
       "        text-align: right;\n",
       "    }\n",
       "</style>\n",
       "<table border=\"1\" class=\"dataframe\">\n",
       "  <thead>\n",
       "    <tr style=\"text-align: right;\">\n",
       "      <th></th>\n",
       "      <th>Unnamed: 0</th>\n",
       "      <th>Date</th>\n",
       "      <th>State</th>\n",
       "      <th>Average Temperature</th>\n",
       "      <th>Anomaly</th>\n",
       "    </tr>\n",
       "  </thead>\n",
       "  <tbody>\n",
       "    <tr>\n",
       "      <th>0</th>\n",
       "      <td>0</td>\n",
       "      <td>Jan-00</td>\n",
       "      <td>Alabama</td>\n",
       "      <td>46.5</td>\n",
       "      <td>1.6</td>\n",
       "    </tr>\n",
       "    <tr>\n",
       "      <th>1</th>\n",
       "      <td>1</td>\n",
       "      <td>Feb-00</td>\n",
       "      <td>Alabama</td>\n",
       "      <td>52.3</td>\n",
       "      <td>2.5</td>\n",
       "    </tr>\n",
       "    <tr>\n",
       "      <th>2</th>\n",
       "      <td>2</td>\n",
       "      <td>Mar-00</td>\n",
       "      <td>Alabama</td>\n",
       "      <td>58.9</td>\n",
       "      <td>2.7</td>\n",
       "    </tr>\n",
       "    <tr>\n",
       "      <th>3</th>\n",
       "      <td>3</td>\n",
       "      <td>Apr-00</td>\n",
       "      <td>Alabama</td>\n",
       "      <td>60.1</td>\n",
       "      <td>-3.8</td>\n",
       "    </tr>\n",
       "    <tr>\n",
       "      <th>4</th>\n",
       "      <td>4</td>\n",
       "      <td>May-00</td>\n",
       "      <td>Alabama</td>\n",
       "      <td>74.0</td>\n",
       "      <td>2.4</td>\n",
       "    </tr>\n",
       "  </tbody>\n",
       "</table>\n",
       "</div>"
      ],
      "text/plain": [
       "   Unnamed: 0    Date    State   Average Temperature  Anomaly\n",
       "0           0  Jan-00  Alabama                  46.5      1.6\n",
       "1           1  Feb-00  Alabama                  52.3      2.5\n",
       "2           2  Mar-00  Alabama                  58.9      2.7\n",
       "3           3  Apr-00  Alabama                  60.1     -3.8\n",
       "4           4  May-00  Alabama                  74.0      2.4"
      ]
     },
     "execution_count": 5,
     "metadata": {},
     "output_type": "execute_result"
    }
   ],
   "source": [
    "weather_twenty_years= pd.DataFrame(state_weather_csv)\n",
    "weather_twenty_years.head()"
   ]
  },
  {
   "cell_type": "code",
   "execution_count": 6,
   "metadata": {
    "scrolled": true
   },
   "outputs": [
    {
     "data": {
      "text/html": [
       "<div>\n",
       "<style scoped>\n",
       "    .dataframe tbody tr th:only-of-type {\n",
       "        vertical-align: middle;\n",
       "    }\n",
       "\n",
       "    .dataframe tbody tr th {\n",
       "        vertical-align: top;\n",
       "    }\n",
       "\n",
       "    .dataframe thead th {\n",
       "        text-align: right;\n",
       "    }\n",
       "</style>\n",
       "<table border=\"1\" class=\"dataframe\">\n",
       "  <thead>\n",
       "    <tr style=\"text-align: right;\">\n",
       "      <th></th>\n",
       "      <th>Unnamed: 0_x</th>\n",
       "      <th>Date</th>\n",
       "      <th>State</th>\n",
       "      <th>Average Temperature</th>\n",
       "      <th>Anomaly</th>\n",
       "      <th>Unnamed: 0_y</th>\n",
       "      <th>Natural Gas Consumption (MMcf)</th>\n",
       "    </tr>\n",
       "  </thead>\n",
       "  <tbody>\n",
       "    <tr>\n",
       "      <th>0</th>\n",
       "      <td>0</td>\n",
       "      <td>Jan-00</td>\n",
       "      <td>Alabama</td>\n",
       "      <td>46.5</td>\n",
       "      <td>1.6</td>\n",
       "      <td>NaN</td>\n",
       "      <td>NaN</td>\n",
       "    </tr>\n",
       "    <tr>\n",
       "      <th>1</th>\n",
       "      <td>1</td>\n",
       "      <td>Feb-00</td>\n",
       "      <td>Alabama</td>\n",
       "      <td>52.3</td>\n",
       "      <td>2.5</td>\n",
       "      <td>NaN</td>\n",
       "      <td>NaN</td>\n",
       "    </tr>\n",
       "    <tr>\n",
       "      <th>2</th>\n",
       "      <td>2</td>\n",
       "      <td>Mar-00</td>\n",
       "      <td>Alabama</td>\n",
       "      <td>58.9</td>\n",
       "      <td>2.7</td>\n",
       "      <td>NaN</td>\n",
       "      <td>NaN</td>\n",
       "    </tr>\n",
       "    <tr>\n",
       "      <th>3</th>\n",
       "      <td>3</td>\n",
       "      <td>Apr-00</td>\n",
       "      <td>Alabama</td>\n",
       "      <td>60.1</td>\n",
       "      <td>-3.8</td>\n",
       "      <td>NaN</td>\n",
       "      <td>NaN</td>\n",
       "    </tr>\n",
       "    <tr>\n",
       "      <th>4</th>\n",
       "      <td>4</td>\n",
       "      <td>May-00</td>\n",
       "      <td>Alabama</td>\n",
       "      <td>74.0</td>\n",
       "      <td>2.4</td>\n",
       "      <td>NaN</td>\n",
       "      <td>NaN</td>\n",
       "    </tr>\n",
       "    <tr>\n",
       "      <th>...</th>\n",
       "      <td>...</td>\n",
       "      <td>...</td>\n",
       "      <td>...</td>\n",
       "      <td>...</td>\n",
       "      <td>...</td>\n",
       "      <td>...</td>\n",
       "      <td>...</td>\n",
       "    </tr>\n",
       "    <tr>\n",
       "      <th>11804</th>\n",
       "      <td>11804</td>\n",
       "      <td>Sep-19</td>\n",
       "      <td>Wyoming</td>\n",
       "      <td>56.7</td>\n",
       "      <td>0.1</td>\n",
       "      <td>6716.0</td>\n",
       "      <td>189.987</td>\n",
       "    </tr>\n",
       "    <tr>\n",
       "      <th>11805</th>\n",
       "      <td>11805</td>\n",
       "      <td>Oct-19</td>\n",
       "      <td>Wyoming</td>\n",
       "      <td>34.2</td>\n",
       "      <td>-8.9</td>\n",
       "      <td>6717.0</td>\n",
       "      <td>589.805</td>\n",
       "    </tr>\n",
       "    <tr>\n",
       "      <th>11806</th>\n",
       "      <td>11806</td>\n",
       "      <td>Nov-19</td>\n",
       "      <td>Wyoming</td>\n",
       "      <td>30.2</td>\n",
       "      <td>-0.9</td>\n",
       "      <td>6718.0</td>\n",
       "      <td>1847.274</td>\n",
       "    </tr>\n",
       "    <tr>\n",
       "      <th>11807</th>\n",
       "      <td>11807</td>\n",
       "      <td>Dec-19</td>\n",
       "      <td>Wyoming</td>\n",
       "      <td>23.0</td>\n",
       "      <td>1.4</td>\n",
       "      <td>6719.0</td>\n",
       "      <td>2073.947</td>\n",
       "    </tr>\n",
       "    <tr>\n",
       "      <th>11808</th>\n",
       "      <td>11808</td>\n",
       "      <td>Jan-20</td>\n",
       "      <td>Wyoming</td>\n",
       "      <td>23.8</td>\n",
       "      <td>1.4</td>\n",
       "      <td>6720.0</td>\n",
       "      <td>2067.150</td>\n",
       "    </tr>\n",
       "  </tbody>\n",
       "</table>\n",
       "<p>11809 rows × 7 columns</p>\n",
       "</div>"
      ],
      "text/plain": [
       "       Unnamed: 0_x    Date    State   Average Temperature  Anomaly  \\\n",
       "0                 0  Jan-00  Alabama                  46.5      1.6   \n",
       "1                 1  Feb-00  Alabama                  52.3      2.5   \n",
       "2                 2  Mar-00  Alabama                  58.9      2.7   \n",
       "3                 3  Apr-00  Alabama                  60.1     -3.8   \n",
       "4                 4  May-00  Alabama                  74.0      2.4   \n",
       "...             ...     ...      ...                   ...      ...   \n",
       "11804         11804  Sep-19  Wyoming                  56.7      0.1   \n",
       "11805         11805  Oct-19  Wyoming                  34.2     -8.9   \n",
       "11806         11806  Nov-19  Wyoming                  30.2     -0.9   \n",
       "11807         11807  Dec-19  Wyoming                  23.0      1.4   \n",
       "11808         11808  Jan-20  Wyoming                  23.8      1.4   \n",
       "\n",
       "       Unnamed: 0_y  Natural Gas Consumption (MMcf)  \n",
       "0               NaN                             NaN  \n",
       "1               NaN                             NaN  \n",
       "2               NaN                             NaN  \n",
       "3               NaN                             NaN  \n",
       "4               NaN                             NaN  \n",
       "...             ...                             ...  \n",
       "11804        6716.0                         189.987  \n",
       "11805        6717.0                         589.805  \n",
       "11806        6718.0                        1847.274  \n",
       "11807        6719.0                        2073.947  \n",
       "11808        6720.0                        2067.150  \n",
       "\n",
       "[11809 rows x 7 columns]"
      ]
     },
     "execution_count": 6,
     "metadata": {},
     "output_type": "execute_result"
    }
   ],
   "source": [
    "merge_df= pd.merge(weather_twenty_years,gas_df, how =\"left\", on =[\"Date\",\"State\"])\n",
    "merge_df"
   ]
  },
  {
   "cell_type": "code",
   "execution_count": 7,
   "metadata": {},
   "outputs": [
    {
     "data": {
      "text/html": [
       "<div>\n",
       "<style scoped>\n",
       "    .dataframe tbody tr th:only-of-type {\n",
       "        vertical-align: middle;\n",
       "    }\n",
       "\n",
       "    .dataframe tbody tr th {\n",
       "        vertical-align: top;\n",
       "    }\n",
       "\n",
       "    .dataframe thead th {\n",
       "        text-align: right;\n",
       "    }\n",
       "</style>\n",
       "<table border=\"1\" class=\"dataframe\">\n",
       "  <thead>\n",
       "    <tr style=\"text-align: right;\">\n",
       "      <th></th>\n",
       "      <th>Unnamed: 0_x</th>\n",
       "      <th>Date</th>\n",
       "      <th>State</th>\n",
       "      <th>Average Temperature</th>\n",
       "      <th>Anomaly</th>\n",
       "      <th>Unnamed: 0_y</th>\n",
       "      <th>Natural Gas Consumption (MMcf)</th>\n",
       "    </tr>\n",
       "  </thead>\n",
       "  <tbody>\n",
       "    <tr>\n",
       "      <th>120</th>\n",
       "      <td>120</td>\n",
       "      <td>Jan-10</td>\n",
       "      <td>Alabama</td>\n",
       "      <td>40.0</td>\n",
       "      <td>-4.9</td>\n",
       "      <td>0.0</td>\n",
       "      <td>9202.647</td>\n",
       "    </tr>\n",
       "    <tr>\n",
       "      <th>121</th>\n",
       "      <td>121</td>\n",
       "      <td>Feb-10</td>\n",
       "      <td>Alabama</td>\n",
       "      <td>40.6</td>\n",
       "      <td>-9.2</td>\n",
       "      <td>1.0</td>\n",
       "      <td>7762.261</td>\n",
       "    </tr>\n",
       "    <tr>\n",
       "      <th>122</th>\n",
       "      <td>122</td>\n",
       "      <td>Mar-10</td>\n",
       "      <td>Alabama</td>\n",
       "      <td>51.2</td>\n",
       "      <td>-5.0</td>\n",
       "      <td>2.0</td>\n",
       "      <td>6612.051</td>\n",
       "    </tr>\n",
       "    <tr>\n",
       "      <th>123</th>\n",
       "      <td>123</td>\n",
       "      <td>Apr-10</td>\n",
       "      <td>Alabama</td>\n",
       "      <td>64.2</td>\n",
       "      <td>0.3</td>\n",
       "      <td>3.0</td>\n",
       "      <td>2987.217</td>\n",
       "    </tr>\n",
       "    <tr>\n",
       "      <th>124</th>\n",
       "      <td>124</td>\n",
       "      <td>May-10</td>\n",
       "      <td>Alabama</td>\n",
       "      <td>73.3</td>\n",
       "      <td>1.7</td>\n",
       "      <td>4.0</td>\n",
       "      <td>1142.784</td>\n",
       "    </tr>\n",
       "    <tr>\n",
       "      <th>...</th>\n",
       "      <td>...</td>\n",
       "      <td>...</td>\n",
       "      <td>...</td>\n",
       "      <td>...</td>\n",
       "      <td>...</td>\n",
       "      <td>...</td>\n",
       "      <td>...</td>\n",
       "    </tr>\n",
       "    <tr>\n",
       "      <th>11804</th>\n",
       "      <td>11804</td>\n",
       "      <td>Sep-19</td>\n",
       "      <td>Wyoming</td>\n",
       "      <td>56.7</td>\n",
       "      <td>0.1</td>\n",
       "      <td>6716.0</td>\n",
       "      <td>189.987</td>\n",
       "    </tr>\n",
       "    <tr>\n",
       "      <th>11805</th>\n",
       "      <td>11805</td>\n",
       "      <td>Oct-19</td>\n",
       "      <td>Wyoming</td>\n",
       "      <td>34.2</td>\n",
       "      <td>-8.9</td>\n",
       "      <td>6717.0</td>\n",
       "      <td>589.805</td>\n",
       "    </tr>\n",
       "    <tr>\n",
       "      <th>11806</th>\n",
       "      <td>11806</td>\n",
       "      <td>Nov-19</td>\n",
       "      <td>Wyoming</td>\n",
       "      <td>30.2</td>\n",
       "      <td>-0.9</td>\n",
       "      <td>6718.0</td>\n",
       "      <td>1847.274</td>\n",
       "    </tr>\n",
       "    <tr>\n",
       "      <th>11807</th>\n",
       "      <td>11807</td>\n",
       "      <td>Dec-19</td>\n",
       "      <td>Wyoming</td>\n",
       "      <td>23.0</td>\n",
       "      <td>1.4</td>\n",
       "      <td>6719.0</td>\n",
       "      <td>2073.947</td>\n",
       "    </tr>\n",
       "    <tr>\n",
       "      <th>11808</th>\n",
       "      <td>11808</td>\n",
       "      <td>Jan-20</td>\n",
       "      <td>Wyoming</td>\n",
       "      <td>23.8</td>\n",
       "      <td>1.4</td>\n",
       "      <td>6720.0</td>\n",
       "      <td>2067.150</td>\n",
       "    </tr>\n",
       "  </tbody>\n",
       "</table>\n",
       "<p>5926 rows × 7 columns</p>\n",
       "</div>"
      ],
      "text/plain": [
       "       Unnamed: 0_x    Date    State   Average Temperature  Anomaly  \\\n",
       "120             120  Jan-10  Alabama                  40.0     -4.9   \n",
       "121             121  Feb-10  Alabama                  40.6     -9.2   \n",
       "122             122  Mar-10  Alabama                  51.2     -5.0   \n",
       "123             123  Apr-10  Alabama                  64.2      0.3   \n",
       "124             124  May-10  Alabama                  73.3      1.7   \n",
       "...             ...     ...      ...                   ...      ...   \n",
       "11804         11804  Sep-19  Wyoming                  56.7      0.1   \n",
       "11805         11805  Oct-19  Wyoming                  34.2     -8.9   \n",
       "11806         11806  Nov-19  Wyoming                  30.2     -0.9   \n",
       "11807         11807  Dec-19  Wyoming                  23.0      1.4   \n",
       "11808         11808  Jan-20  Wyoming                  23.8      1.4   \n",
       "\n",
       "       Unnamed: 0_y  Natural Gas Consumption (MMcf)  \n",
       "120             0.0                        9202.647  \n",
       "121             1.0                        7762.261  \n",
       "122             2.0                        6612.051  \n",
       "123             3.0                        2987.217  \n",
       "124             4.0                        1142.784  \n",
       "...             ...                             ...  \n",
       "11804        6716.0                         189.987  \n",
       "11805        6717.0                         589.805  \n",
       "11806        6718.0                        1847.274  \n",
       "11807        6719.0                        2073.947  \n",
       "11808        6720.0                        2067.150  \n",
       "\n",
       "[5926 rows x 7 columns]"
      ]
     },
     "execution_count": 7,
     "metadata": {},
     "output_type": "execute_result"
    }
   ],
   "source": [
    "null_drop = merge_df.dropna(how='any')\n",
    "null_drop"
   ]
  },
  {
   "cell_type": "code",
   "execution_count": 8,
   "metadata": {
    "scrolled": true
   },
   "outputs": [
    {
     "data": {
      "text/html": [
       "<div>\n",
       "<style scoped>\n",
       "    .dataframe tbody tr th:only-of-type {\n",
       "        vertical-align: middle;\n",
       "    }\n",
       "\n",
       "    .dataframe tbody tr th {\n",
       "        vertical-align: top;\n",
       "    }\n",
       "\n",
       "    .dataframe thead th {\n",
       "        text-align: right;\n",
       "    }\n",
       "</style>\n",
       "<table border=\"1\" class=\"dataframe\">\n",
       "  <thead>\n",
       "    <tr style=\"text-align: right;\">\n",
       "      <th></th>\n",
       "      <th>Date</th>\n",
       "      <th>State</th>\n",
       "      <th>Average Temperature</th>\n",
       "      <th>Anomaly</th>\n",
       "      <th>Natural Gas Consumption (MMcf)</th>\n",
       "    </tr>\n",
       "  </thead>\n",
       "  <tbody>\n",
       "    <tr>\n",
       "      <th>120</th>\n",
       "      <td>Jan-10</td>\n",
       "      <td>Alabama</td>\n",
       "      <td>40.0</td>\n",
       "      <td>-4.9</td>\n",
       "      <td>9202.647</td>\n",
       "    </tr>\n",
       "    <tr>\n",
       "      <th>121</th>\n",
       "      <td>Feb-10</td>\n",
       "      <td>Alabama</td>\n",
       "      <td>40.6</td>\n",
       "      <td>-9.2</td>\n",
       "      <td>7762.261</td>\n",
       "    </tr>\n",
       "    <tr>\n",
       "      <th>122</th>\n",
       "      <td>Mar-10</td>\n",
       "      <td>Alabama</td>\n",
       "      <td>51.2</td>\n",
       "      <td>-5.0</td>\n",
       "      <td>6612.051</td>\n",
       "    </tr>\n",
       "    <tr>\n",
       "      <th>123</th>\n",
       "      <td>Apr-10</td>\n",
       "      <td>Alabama</td>\n",
       "      <td>64.2</td>\n",
       "      <td>0.3</td>\n",
       "      <td>2987.217</td>\n",
       "    </tr>\n",
       "    <tr>\n",
       "      <th>124</th>\n",
       "      <td>May-10</td>\n",
       "      <td>Alabama</td>\n",
       "      <td>73.3</td>\n",
       "      <td>1.7</td>\n",
       "      <td>1142.784</td>\n",
       "    </tr>\n",
       "    <tr>\n",
       "      <th>...</th>\n",
       "      <td>...</td>\n",
       "      <td>...</td>\n",
       "      <td>...</td>\n",
       "      <td>...</td>\n",
       "      <td>...</td>\n",
       "    </tr>\n",
       "    <tr>\n",
       "      <th>11804</th>\n",
       "      <td>Sep-19</td>\n",
       "      <td>Wyoming</td>\n",
       "      <td>56.7</td>\n",
       "      <td>0.1</td>\n",
       "      <td>189.987</td>\n",
       "    </tr>\n",
       "    <tr>\n",
       "      <th>11805</th>\n",
       "      <td>Oct-19</td>\n",
       "      <td>Wyoming</td>\n",
       "      <td>34.2</td>\n",
       "      <td>-8.9</td>\n",
       "      <td>589.805</td>\n",
       "    </tr>\n",
       "    <tr>\n",
       "      <th>11806</th>\n",
       "      <td>Nov-19</td>\n",
       "      <td>Wyoming</td>\n",
       "      <td>30.2</td>\n",
       "      <td>-0.9</td>\n",
       "      <td>1847.274</td>\n",
       "    </tr>\n",
       "    <tr>\n",
       "      <th>11807</th>\n",
       "      <td>Dec-19</td>\n",
       "      <td>Wyoming</td>\n",
       "      <td>23.0</td>\n",
       "      <td>1.4</td>\n",
       "      <td>2073.947</td>\n",
       "    </tr>\n",
       "    <tr>\n",
       "      <th>11808</th>\n",
       "      <td>Jan-20</td>\n",
       "      <td>Wyoming</td>\n",
       "      <td>23.8</td>\n",
       "      <td>1.4</td>\n",
       "      <td>2067.150</td>\n",
       "    </tr>\n",
       "  </tbody>\n",
       "</table>\n",
       "<p>5926 rows × 5 columns</p>\n",
       "</div>"
      ],
      "text/plain": [
       "         Date    State   Average Temperature  Anomaly  \\\n",
       "120    Jan-10  Alabama                  40.0     -4.9   \n",
       "121    Feb-10  Alabama                  40.6     -9.2   \n",
       "122    Mar-10  Alabama                  51.2     -5.0   \n",
       "123    Apr-10  Alabama                  64.2      0.3   \n",
       "124    May-10  Alabama                  73.3      1.7   \n",
       "...       ...      ...                   ...      ...   \n",
       "11804  Sep-19  Wyoming                  56.7      0.1   \n",
       "11805  Oct-19  Wyoming                  34.2     -8.9   \n",
       "11806  Nov-19  Wyoming                  30.2     -0.9   \n",
       "11807  Dec-19  Wyoming                  23.0      1.4   \n",
       "11808  Jan-20  Wyoming                  23.8      1.4   \n",
       "\n",
       "       Natural Gas Consumption (MMcf)  \n",
       "120                          9202.647  \n",
       "121                          7762.261  \n",
       "122                          6612.051  \n",
       "123                          2987.217  \n",
       "124                          1142.784  \n",
       "...                               ...  \n",
       "11804                         189.987  \n",
       "11805                         589.805  \n",
       "11806                        1847.274  \n",
       "11807                        2073.947  \n",
       "11808                        2067.150  \n",
       "\n",
       "[5926 rows x 5 columns]"
      ]
     },
     "execution_count": 8,
     "metadata": {},
     "output_type": "execute_result"
    }
   ],
   "source": [
    "clean_merge= null_drop.drop(columns=['Unnamed: 0_x',\"Unnamed: 0_y\"])\n",
    "clean_merge"
   ]
  },
  {
   "cell_type": "code",
   "execution_count": 9,
   "metadata": {},
   "outputs": [
    {
     "data": {
      "text/html": [
       "<div>\n",
       "<style scoped>\n",
       "    .dataframe tbody tr th:only-of-type {\n",
       "        vertical-align: middle;\n",
       "    }\n",
       "\n",
       "    .dataframe tbody tr th {\n",
       "        vertical-align: top;\n",
       "    }\n",
       "\n",
       "    .dataframe thead th {\n",
       "        text-align: right;\n",
       "    }\n",
       "</style>\n",
       "<table border=\"1\" class=\"dataframe\">\n",
       "  <thead>\n",
       "    <tr style=\"text-align: right;\">\n",
       "      <th></th>\n",
       "      <th>Date</th>\n",
       "      <th>State</th>\n",
       "      <th>Average Temperature</th>\n",
       "      <th>Anomaly</th>\n",
       "      <th>Natural Gas Consumption (MMcf)</th>\n",
       "    </tr>\n",
       "  </thead>\n",
       "  <tbody>\n",
       "    <tr>\n",
       "      <th>120</th>\n",
       "      <td>Jan-10</td>\n",
       "      <td>Alabama</td>\n",
       "      <td>40.0</td>\n",
       "      <td>-4.9</td>\n",
       "      <td>9202.647</td>\n",
       "    </tr>\n",
       "    <tr>\n",
       "      <th>121</th>\n",
       "      <td>Feb-10</td>\n",
       "      <td>Alabama</td>\n",
       "      <td>40.6</td>\n",
       "      <td>-9.2</td>\n",
       "      <td>7762.261</td>\n",
       "    </tr>\n",
       "    <tr>\n",
       "      <th>122</th>\n",
       "      <td>Mar-10</td>\n",
       "      <td>Alabama</td>\n",
       "      <td>51.2</td>\n",
       "      <td>-5.0</td>\n",
       "      <td>6612.051</td>\n",
       "    </tr>\n",
       "    <tr>\n",
       "      <th>131</th>\n",
       "      <td>Dec-10</td>\n",
       "      <td>Alabama</td>\n",
       "      <td>40.3</td>\n",
       "      <td>-9.0</td>\n",
       "      <td>7970.435</td>\n",
       "    </tr>\n",
       "    <tr>\n",
       "      <th>132</th>\n",
       "      <td>Jan-11</td>\n",
       "      <td>Alabama</td>\n",
       "      <td>41.1</td>\n",
       "      <td>-3.8</td>\n",
       "      <td>9951.178</td>\n",
       "    </tr>\n",
       "    <tr>\n",
       "      <th>...</th>\n",
       "      <td>...</td>\n",
       "      <td>...</td>\n",
       "      <td>...</td>\n",
       "      <td>...</td>\n",
       "      <td>...</td>\n",
       "    </tr>\n",
       "    <tr>\n",
       "      <th>11559</th>\n",
       "      <td>May-19</td>\n",
       "      <td>Wisconsin</td>\n",
       "      <td>51.8</td>\n",
       "      <td>-4.4</td>\n",
       "      <td>7050.223</td>\n",
       "    </tr>\n",
       "    <tr>\n",
       "      <th>11564</th>\n",
       "      <td>Oct-19</td>\n",
       "      <td>Wisconsin</td>\n",
       "      <td>45.0</td>\n",
       "      <td>-2.4</td>\n",
       "      <td>9003.976</td>\n",
       "    </tr>\n",
       "    <tr>\n",
       "      <th>11565</th>\n",
       "      <td>Nov-19</td>\n",
       "      <td>Wisconsin</td>\n",
       "      <td>28.2</td>\n",
       "      <td>-4.8</td>\n",
       "      <td>19033.545</td>\n",
       "    </tr>\n",
       "    <tr>\n",
       "      <th>11566</th>\n",
       "      <td>Dec-19</td>\n",
       "      <td>Wisconsin</td>\n",
       "      <td>23.5</td>\n",
       "      <td>1.4</td>\n",
       "      <td>21240.594</td>\n",
       "    </tr>\n",
       "    <tr>\n",
       "      <th>11567</th>\n",
       "      <td>Jan-20</td>\n",
       "      <td>Wisconsin</td>\n",
       "      <td>21.6</td>\n",
       "      <td>6.0</td>\n",
       "      <td>22909.245</td>\n",
       "    </tr>\n",
       "  </tbody>\n",
       "</table>\n",
       "<p>2247 rows × 5 columns</p>\n",
       "</div>"
      ],
      "text/plain": [
       "         Date      State   Average Temperature  Anomaly  \\\n",
       "120    Jan-10    Alabama                  40.0     -4.9   \n",
       "121    Feb-10    Alabama                  40.6     -9.2   \n",
       "122    Mar-10    Alabama                  51.2     -5.0   \n",
       "131    Dec-10    Alabama                  40.3     -9.0   \n",
       "132    Jan-11    Alabama                  41.1     -3.8   \n",
       "...       ...        ...                   ...      ...   \n",
       "11559  May-19  Wisconsin                  51.8     -4.4   \n",
       "11564  Oct-19  Wisconsin                  45.0     -2.4   \n",
       "11565  Nov-19  Wisconsin                  28.2     -4.8   \n",
       "11566  Dec-19  Wisconsin                  23.5      1.4   \n",
       "11567  Jan-20  Wisconsin                  21.6      6.0   \n",
       "\n",
       "       Natural Gas Consumption (MMcf)  \n",
       "120                          9202.647  \n",
       "121                          7762.261  \n",
       "122                          6612.051  \n",
       "131                          7970.435  \n",
       "132                          9951.178  \n",
       "...                               ...  \n",
       "11559                        7050.223  \n",
       "11564                        9003.976  \n",
       "11565                       19033.545  \n",
       "11566                       21240.594  \n",
       "11567                       22909.245  \n",
       "\n",
       "[2247 rows x 5 columns]"
      ]
     },
     "execution_count": 9,
     "metadata": {},
     "output_type": "execute_result"
    }
   ],
   "source": [
    "#Dropping states that use less than 5000 MMcf. Considering these low use states as outliers \n",
    "\n",
    "state_drop= clean_merge[clean_merge['Natural Gas Consumption (MMcf)']<=5000].index\n",
    "gas_states=clean_merge.drop(state_drop)\n",
    "gas_states"
   ]
  },
  {
   "cell_type": "code",
   "execution_count": null,
   "metadata": {},
   "outputs": [],
   "source": []
  },
  {
   "cell_type": "code",
   "execution_count": 10,
   "metadata": {},
   "outputs": [],
   "source": [
    "state_group= gas_states.groupby(clean_merge['State'])\n"
   ]
  },
  {
   "cell_type": "code",
   "execution_count": 11,
   "metadata": {},
   "outputs": [],
   "source": [
    "state_ave = state_group['Natural Gas Consumption (MMcf)'].mean()\n"
   ]
  },
  {
   "cell_type": "code",
   "execution_count": 12,
   "metadata": {},
   "outputs": [],
   "source": [
    "import numpy as np\n",
    "import matplotlib.pyplot as plt"
   ]
  },
  {
   "cell_type": "code",
   "execution_count": 13,
   "metadata": {
    "scrolled": true
   },
   "outputs": [
    {
     "data": {
      "text/plain": [
       "<AxesSubplot:xlabel='State'>"
      ]
     },
     "execution_count": 13,
     "metadata": {},
     "output_type": "execute_result"
    },
    {
     "data": {
      "image/png": "[encoded data removed]",
      "text/plain": [
       "<Figure size 432x288 with 1 Axes>"
      ]
     },
     "metadata": {
      "needs_background": "light"
     },
     "output_type": "display_data"
    }
   ],
   "source": [
    "state_ave.plot(kind='bar', y='Natural Gas Consumption (MMcf)')"
   ]
  },
  {
   "cell_type": "code",
   "execution_count": 14,
   "metadata": {},
   "outputs": [],
   "source": [
    "# Grouping States by Standard Federal Regions "
   ]
  },
  {
   "cell_type": "code",
   "execution_count": 15,
   "metadata": {},
   "outputs": [],
   "source": [
    "Region_I= gas_states.loc[(gas_states['State']== 'Connecticut') | (gas_states['State']== 'Massachusetts')]"
   ]
  },
  {
   "cell_type": "code",
   "execution_count": 16,
   "metadata": {},
   "outputs": [],
   "source": [
    "Region_II= gas_states.loc[(gas_states['State']== 'New Jersey') | (gas_states['State']== 'New York')]"
   ]
  },
  {
   "cell_type": "code",
   "execution_count": 17,
   "metadata": {},
   "outputs": [],
   "source": [
    "Region_III= gas_states.loc[(gas_states['State']== 'Maryland') | (gas_states['State']== 'Pennsylvania') | (gas_states['State']== 'Virginia') | (gas_states['State']== 'West Virginia')]"
   ]
  },
  {
   "cell_type": "code",
   "execution_count": 18,
   "metadata": {},
   "outputs": [],
   "source": [
    "Region_IV= gas_states.loc[(gas_states['State']== 'Alabama') | (gas_states['State']== 'Georgia') | (gas_states['State']== 'Kentucky') | (gas_states['State']== 'Mississippi') |(gas_states['State']== 'North Carolina') |(gas_states['State']== 'South Carolina') | (gas_states['State']=='Tennessee')]"
   ]
  },
  {
   "cell_type": "code",
   "execution_count": 19,
   "metadata": {},
   "outputs": [],
   "source": [
    "Region_V = gas_states.loc[(gas_states['State']== 'Illinois') | (gas_states['State']== 'Indiana') | (gas_states['State']=='Michigan') | (gas_states['State']=='Minnesota')| (gas_states['State']=='Ohio') |( gas_states['State']== 'Wisconsin')]"
   ]
  },
  {
   "cell_type": "code",
   "execution_count": 20,
   "metadata": {},
   "outputs": [],
   "source": [
    "Region_VI=gas_states.loc[(gas_states['State']== 'Arkansas') | (gas_states['State']== 'Louisiana') | (gas_states['State']== 'New Mexico') | (gas_states['State']=='Oklahoma') |(gas_states['State']=='Texas')]"
   ]
  },
  {
   "cell_type": "code",
   "execution_count": 21,
   "metadata": {},
   "outputs": [],
   "source": [
    "Region_VII=gas_states.loc[(gas_states['State']== 'Iowa') | (gas_states['State']== 'Kansas') |(gas_states['State']=='Missouri')]"
   ]
  },
  {
   "cell_type": "code",
   "execution_count": 22,
   "metadata": {},
   "outputs": [],
   "source": [
    "Region_VIII=gas_states.loc[(gas_states['State']== 'Colorado') | (gas_states['State']== 'Utah')]"
   ]
  },
  {
   "cell_type": "code",
   "execution_count": 23,
   "metadata": {},
   "outputs": [],
   "source": [
    "Region_IX=gas_states.loc[(gas_states['State']== 'Arizona') | (gas_states['State']== 'California')]"
   ]
  },
  {
   "cell_type": "code",
   "execution_count": 24,
   "metadata": {},
   "outputs": [],
   "source": [
    "Region_X= gas_states.loc[(gas_states['State']== 'Idaho') | (gas_states['State']== 'Oregon') | (gas_states['State']=='Washington')]"
   ]
  },
  {
   "cell_type": "code",
   "execution_count": 25,
   "metadata": {},
   "outputs": [
    {
     "name": "stdout",
     "output_type": "stream",
     "text": [
      "12245.1342051282\n"
     ]
    }
   ],
   "source": [
    "reg_I_gas= Region_I['Natural Gas Consumption (MMcf)'].mean()\n",
    "print(reg_I_gas)"
   ]
  },
  {
   "cell_type": "code",
   "execution_count": 26,
   "metadata": {},
   "outputs": [
    {
     "name": "stdout",
     "output_type": "stream",
     "text": [
      "29755.519713636375\n"
     ]
    }
   ],
   "source": [
    "reg_II_gas= Region_II['Natural Gas Consumption (MMcf)'].mean()\n",
    "print(reg_II_gas)"
   ]
  },
  {
   "cell_type": "code",
   "execution_count": 27,
   "metadata": {},
   "outputs": [],
   "source": [
    "\n",
    "reg_II_gas= Region_II['Natural Gas Consumption (MMcf)'].mean()\n",
    "reg_III_gas= Region_III['Natural Gas Consumption (MMcf)'].mean()\n",
    "reg_IV_gas= Region_IV['Natural Gas Consumption (MMcf)'].mean()\n",
    "reg_V_gas= Region_V['Natural Gas Consumption (MMcf)'].mean()\n",
    "reg_VI_gas= Region_VI['Natural Gas Consumption (MMcf)'].mean()\n",
    "reg_VII_gas= Region_VII['Natural Gas Consumption (MMcf)'].mean()\n",
    "reg_VIII_gas= Region_VIII['Natural Gas Consumption (MMcf)'].mean()\n",
    "reg_IX_gas= Region_IX['Natural Gas Consumption (MMcf)'].mean()\n",
    "reg_X_gas= Region_X['Natural Gas Consumption (MMcf)'].mean()"
   ]
  },
  {
   "cell_type": "code",
   "execution_count": 28,
   "metadata": {},
   "outputs": [],
   "source": [
    "region_data= pd.DataFrame({'I': [reg_I_gas],\n",
    "               'II': [reg_II_gas],\n",
    "               'III': [reg_III_gas],\n",
    "               'IV': [reg_IV_gas],\n",
    "               'V': [reg_V_gas],\n",
    "               'VI': [reg_VI_gas],\n",
    "               'VII': [reg_VII_gas],\n",
    "               'VIII': [reg_VIII_gas],\n",
    "               'IX': [reg_IX_gas],\n",
    "               'X': [reg_X_gas]})"
   ]
  },
  {
   "cell_type": "code",
   "execution_count": 29,
   "metadata": {},
   "outputs": [
    {
     "data": {
      "text/html": [
       "<div>\n",
       "<style scoped>\n",
       "    .dataframe tbody tr th:only-of-type {\n",
       "        vertical-align: middle;\n",
       "    }\n",
       "\n",
       "    .dataframe tbody tr th {\n",
       "        vertical-align: top;\n",
       "    }\n",
       "\n",
       "    .dataframe thead th {\n",
       "        text-align: right;\n",
       "    }\n",
       "</style>\n",
       "<table border=\"1\" class=\"dataframe\">\n",
       "  <thead>\n",
       "    <tr style=\"text-align: right;\">\n",
       "      <th></th>\n",
       "      <th>I</th>\n",
       "      <th>II</th>\n",
       "      <th>III</th>\n",
       "      <th>IV</th>\n",
       "      <th>V</th>\n",
       "      <th>VI</th>\n",
       "      <th>VII</th>\n",
       "      <th>VIII</th>\n",
       "      <th>IX</th>\n",
       "      <th>X</th>\n",
       "    </tr>\n",
       "  </thead>\n",
       "  <tbody>\n",
       "    <tr>\n",
       "      <th>0</th>\n",
       "      <td>12245.134205</td>\n",
       "      <td>29755.519714</td>\n",
       "      <td>17591.317564</td>\n",
       "      <td>10781.670837</td>\n",
       "      <td>24545.68168</td>\n",
       "      <td>12610.59544</td>\n",
       "      <td>11773.560352</td>\n",
       "      <td>12660.356955</td>\n",
       "      <td>32088.449081</td>\n",
       "      <td>8753.327469</td>\n",
       "    </tr>\n",
       "  </tbody>\n",
       "</table>\n",
       "</div>"
      ],
      "text/plain": [
       "              I            II           III            IV            V  \\\n",
       "0  12245.134205  29755.519714  17591.317564  10781.670837  24545.68168   \n",
       "\n",
       "            VI           VII          VIII            IX            X  \n",
       "0  12610.59544  11773.560352  12660.356955  32088.449081  8753.327469  "
      ]
     },
     "execution_count": 29,
     "metadata": {},
     "output_type": "execute_result"
    }
   ],
   "source": [
    "region_data.head()"
   ]
  },
  {
   "cell_type": "code",
   "execution_count": 30,
   "metadata": {},
   "outputs": [],
   "source": [
    "T_region_data=region_data.T"
   ]
  },
  {
   "cell_type": "code",
   "execution_count": 69,
   "metadata": {},
   "outputs": [
    {
     "data": {
      "text/plain": [
       "Text(0, 0.5, 'MMcf')"
      ]
     },
     "execution_count": 69,
     "metadata": {},
     "output_type": "execute_result"
    },
    {
     "data": {
      "image/png": "[encoded data removed]",
      "text/plain": [
       "<Figure size 432x288 with 1 Axes>"
      ]
     },
     "metadata": {
      "needs_background": "light"
     },
     "output_type": "display_data"
    }
   ],
   "source": [
    "region_graph=T_region_data.plot.bar(legend=False, title =\" Regional Gas Consumption\", rot=0)\n",
    "region_graph.set_xlabel(\"Standard Federal Regions\")\n",
    "region_graph.set_ylabel(\"MMcf\")\n"
   ]
  },
  {
   "cell_type": "code",
   "execution_count": 32,
   "metadata": {},
   "outputs": [],
   "source": [
    "#Region IX: Arizona, California, Hawaii, Nevada, American Samoa, Guam, Northern Mariana Islands most consumption\n",
    "    #Only have Arizona and California in our set. \n",
    "#Region X: Alaska, Idaho, Oregon, Washington least consumption\n",
    "    #Alaska not included in this set. "
   ]
  },
  {
   "cell_type": "code",
   "execution_count": null,
   "metadata": {},
   "outputs": [],
   "source": [
    "# looking at gas consumption by season"
   ]
  },
  {
   "cell_type": "code",
   "execution_count": 44,
   "metadata": {},
   "outputs": [
    {
     "data": {
      "text/html": [
       "<div>\n",
       "<style scoped>\n",
       "    .dataframe tbody tr th:only-of-type {\n",
       "        vertical-align: middle;\n",
       "    }\n",
       "\n",
       "    .dataframe tbody tr th {\n",
       "        vertical-align: top;\n",
       "    }\n",
       "\n",
       "    .dataframe thead th {\n",
       "        text-align: right;\n",
       "    }\n",
       "</style>\n",
       "<table border=\"1\" class=\"dataframe\">\n",
       "  <thead>\n",
       "    <tr style=\"text-align: right;\">\n",
       "      <th></th>\n",
       "      <th>Date</th>\n",
       "      <th>State</th>\n",
       "      <th>Average Temperature</th>\n",
       "      <th>Anomaly</th>\n",
       "      <th>Natural Gas Consumption (MMcf)</th>\n",
       "      <th>Month</th>\n",
       "      <th>Year</th>\n",
       "    </tr>\n",
       "  </thead>\n",
       "  <tbody>\n",
       "    <tr>\n",
       "      <th>120</th>\n",
       "      <td>Jan-10</td>\n",
       "      <td>Alabama</td>\n",
       "      <td>40.0</td>\n",
       "      <td>-4.9</td>\n",
       "      <td>9202.647</td>\n",
       "      <td>Jan</td>\n",
       "      <td>10</td>\n",
       "    </tr>\n",
       "    <tr>\n",
       "      <th>121</th>\n",
       "      <td>Feb-10</td>\n",
       "      <td>Alabama</td>\n",
       "      <td>40.6</td>\n",
       "      <td>-9.2</td>\n",
       "      <td>7762.261</td>\n",
       "      <td>Feb</td>\n",
       "      <td>10</td>\n",
       "    </tr>\n",
       "    <tr>\n",
       "      <th>122</th>\n",
       "      <td>Mar-10</td>\n",
       "      <td>Alabama</td>\n",
       "      <td>51.2</td>\n",
       "      <td>-5.0</td>\n",
       "      <td>6612.051</td>\n",
       "      <td>Mar</td>\n",
       "      <td>10</td>\n",
       "    </tr>\n",
       "    <tr>\n",
       "      <th>131</th>\n",
       "      <td>Dec-10</td>\n",
       "      <td>Alabama</td>\n",
       "      <td>40.3</td>\n",
       "      <td>-9.0</td>\n",
       "      <td>7970.435</td>\n",
       "      <td>Dec</td>\n",
       "      <td>10</td>\n",
       "    </tr>\n",
       "    <tr>\n",
       "      <th>132</th>\n",
       "      <td>Jan-11</td>\n",
       "      <td>Alabama</td>\n",
       "      <td>41.1</td>\n",
       "      <td>-3.8</td>\n",
       "      <td>9951.178</td>\n",
       "      <td>Jan</td>\n",
       "      <td>11</td>\n",
       "    </tr>\n",
       "    <tr>\n",
       "      <th>...</th>\n",
       "      <td>...</td>\n",
       "      <td>...</td>\n",
       "      <td>...</td>\n",
       "      <td>...</td>\n",
       "      <td>...</td>\n",
       "      <td>...</td>\n",
       "      <td>...</td>\n",
       "    </tr>\n",
       "    <tr>\n",
       "      <th>11559</th>\n",
       "      <td>May-19</td>\n",
       "      <td>Wisconsin</td>\n",
       "      <td>51.8</td>\n",
       "      <td>-4.4</td>\n",
       "      <td>7050.223</td>\n",
       "      <td>May</td>\n",
       "      <td>19</td>\n",
       "    </tr>\n",
       "    <tr>\n",
       "      <th>11564</th>\n",
       "      <td>Oct-19</td>\n",
       "      <td>Wisconsin</td>\n",
       "      <td>45.0</td>\n",
       "      <td>-2.4</td>\n",
       "      <td>9003.976</td>\n",
       "      <td>Oct</td>\n",
       "      <td>19</td>\n",
       "    </tr>\n",
       "    <tr>\n",
       "      <th>11565</th>\n",
       "      <td>Nov-19</td>\n",
       "      <td>Wisconsin</td>\n",
       "      <td>28.2</td>\n",
       "      <td>-4.8</td>\n",
       "      <td>19033.545</td>\n",
       "      <td>Nov</td>\n",
       "      <td>19</td>\n",
       "    </tr>\n",
       "    <tr>\n",
       "      <th>11566</th>\n",
       "      <td>Dec-19</td>\n",
       "      <td>Wisconsin</td>\n",
       "      <td>23.5</td>\n",
       "      <td>1.4</td>\n",
       "      <td>21240.594</td>\n",
       "      <td>Dec</td>\n",
       "      <td>19</td>\n",
       "    </tr>\n",
       "    <tr>\n",
       "      <th>11567</th>\n",
       "      <td>Jan-20</td>\n",
       "      <td>Wisconsin</td>\n",
       "      <td>21.6</td>\n",
       "      <td>6.0</td>\n",
       "      <td>22909.245</td>\n",
       "      <td>Jan</td>\n",
       "      <td>20</td>\n",
       "    </tr>\n",
       "  </tbody>\n",
       "</table>\n",
       "<p>2247 rows × 7 columns</p>\n",
       "</div>"
      ],
      "text/plain": [
       "         Date      State   Average Temperature  Anomaly  \\\n",
       "120    Jan-10    Alabama                  40.0     -4.9   \n",
       "121    Feb-10    Alabama                  40.6     -9.2   \n",
       "122    Mar-10    Alabama                  51.2     -5.0   \n",
       "131    Dec-10    Alabama                  40.3     -9.0   \n",
       "132    Jan-11    Alabama                  41.1     -3.8   \n",
       "...       ...        ...                   ...      ...   \n",
       "11559  May-19  Wisconsin                  51.8     -4.4   \n",
       "11564  Oct-19  Wisconsin                  45.0     -2.4   \n",
       "11565  Nov-19  Wisconsin                  28.2     -4.8   \n",
       "11566  Dec-19  Wisconsin                  23.5      1.4   \n",
       "11567  Jan-20  Wisconsin                  21.6      6.0   \n",
       "\n",
       "       Natural Gas Consumption (MMcf) Month Year  \n",
       "120                          9202.647   Jan   10  \n",
       "121                          7762.261   Feb   10  \n",
       "122                          6612.051   Mar   10  \n",
       "131                          7970.435   Dec   10  \n",
       "132                          9951.178   Jan   11  \n",
       "...                               ...   ...  ...  \n",
       "11559                        7050.223   May   19  \n",
       "11564                        9003.976   Oct   19  \n",
       "11565                       19033.545   Nov   19  \n",
       "11566                       21240.594   Dec   19  \n",
       "11567                       22909.245   Jan   20  \n",
       "\n",
       "[2247 rows x 7 columns]"
      ]
     },
     "execution_count": 44,
     "metadata": {},
     "output_type": "execute_result"
    }
   ],
   "source": [
    "gas_states[['Month', 'Year']]= gas_states.Date.str.split(\"-\",expand=True)\n",
    "gas_states"
   ]
  },
  {
   "cell_type": "code",
   "execution_count": 53,
   "metadata": {},
   "outputs": [],
   "source": [
    "spring_loc= gas_states.loc[(gas_states['Month']== 'Mar')|(gas_states['Month']== 'April')|(gas_states['Month']== 'May')]"
   ]
  },
  {
   "cell_type": "code",
   "execution_count": 54,
   "metadata": {},
   "outputs": [],
   "source": [
    "summer_loc=  gas_states.loc[(gas_states['Month']== 'Jun')|(gas_states['Month']== 'Jul')|(gas_states['Month']== 'Aug')]"
   ]
  },
  {
   "cell_type": "code",
   "execution_count": 55,
   "metadata": {},
   "outputs": [],
   "source": [
    "fall_loc=  gas_states.loc[(gas_states['Month']== 'Sep')|(gas_states['Month']== 'Oct')|(gas_states['Month']== 'Nov')]"
   ]
  },
  {
   "cell_type": "code",
   "execution_count": 56,
   "metadata": {},
   "outputs": [],
   "source": [
    "winter_loc=  gas_states.loc[(gas_states['Month']== 'Dec')|(gas_states['Month']== 'Jan')|(gas_states['Month']== 'Feb')]"
   ]
  },
  {
   "cell_type": "code",
   "execution_count": 59,
   "metadata": {},
   "outputs": [],
   "source": [
    "spring = spring_loc['Natural Gas Consumption (MMcf)'].mean()\n",
    "summer = summer_loc['Natural Gas Consumption (MMcf)'].mean()\n",
    "fall = fall_loc['Natural Gas Consumption (MMcf)'].mean()\n",
    "winter = winter_loc['Natural Gas Consumption (MMcf)'].mean()"
   ]
  },
  {
   "cell_type": "code",
   "execution_count": 77,
   "metadata": {},
   "outputs": [],
   "source": [
    "seasons_data=({\"Spring\":[spring], \"Summer\": [summer], \"Fall\": [fall], \"Winter\": [winter]})"
   ]
  },
  {
   "cell_type": "code",
   "execution_count": 78,
   "metadata": {},
   "outputs": [],
   "source": [
    "seasons_df=pd.DataFrame(seasons_data)"
   ]
  },
  {
   "cell_type": "code",
   "execution_count": 79,
   "metadata": {},
   "outputs": [],
   "source": [
    "seasons= seasons_df.T"
   ]
  },
  {
   "cell_type": "code",
   "execution_count": 80,
   "metadata": {},
   "outputs": [
    {
     "data": {
      "image/png": "[encoded data removed]",
      "text/plain": [
       "<Figure size 432x288 with 1 Axes>"
      ]
     },
     "metadata": {
      "needs_background": "light"
     },
     "output_type": "display_data"
    }
   ],
   "source": [
    "seasons_bar= seasons.plot.bar(legend=False, title= \"Seasonal Gas Consumption\",rot=0)\n",
    "seasons_bar.set_xlabel= \"Seasons\"\n",
    "seasons_bar.set_ylabel=\"MMcf\""
   ]
  },
  {
   "cell_type": "code",
   "execution_count": 82,
   "metadata": {},
   "outputs": [
    {
     "ename": "TypeError",
     "evalue": "unhashable type: 'dict'",
     "output_type": "error",
     "traceback": [
      "\u001b[1;31m---------------------------------------------------------------------------\u001b[0m",
      "\u001b[1;31mTypeError\u001b[0m                                 Traceback (most recent call last)",
      "\u001b[1;32m<ipython-input-82-8c417329203b>\u001b[0m in \u001b[0;36m<module>\u001b[1;34m\u001b[0m\n\u001b[1;32m----> 1\u001b[1;33m \u001b[0mseasons_box\u001b[0m\u001b[1;33m=\u001b[0m\u001b[0mseasons\u001b[0m\u001b[1;33m.\u001b[0m\u001b[0mboxplot\u001b[0m\u001b[1;33m(\u001b[0m\u001b[0mseasons_data\u001b[0m\u001b[1;33m)\u001b[0m\u001b[1;33m\u001b[0m\u001b[1;33m\u001b[0m\u001b[0m\n\u001b[0m",
      "\u001b[1;32m~\\anaconda3\\lib\\site-packages\\pandas\\plotting\\_core.py\u001b[0m in \u001b[0;36mboxplot_frame\u001b[1;34m(self, column, by, ax, fontsize, rot, grid, figsize, layout, return_type, backend, **kwargs)\u001b[0m\n\u001b[0;32m    492\u001b[0m ):\n\u001b[0;32m    493\u001b[0m     \u001b[0mplot_backend\u001b[0m \u001b[1;33m=\u001b[0m \u001b[0m_get_plot_backend\u001b[0m\u001b[1;33m(\u001b[0m\u001b[0mbackend\u001b[0m\u001b[1;33m)\u001b[0m\u001b[1;33m\u001b[0m\u001b[1;33m\u001b[0m\u001b[0m\n\u001b[1;32m--> 494\u001b[1;33m     return plot_backend.boxplot_frame(\n\u001b[0m\u001b[0;32m    495\u001b[0m         \u001b[0mself\u001b[0m\u001b[1;33m,\u001b[0m\u001b[1;33m\u001b[0m\u001b[1;33m\u001b[0m\u001b[0m\n\u001b[0;32m    496\u001b[0m         \u001b[0mcolumn\u001b[0m\u001b[1;33m=\u001b[0m\u001b[0mcolumn\u001b[0m\u001b[1;33m,\u001b[0m\u001b[1;33m\u001b[0m\u001b[1;33m\u001b[0m\u001b[0m\n",
      "\u001b[1;32m~\\anaconda3\\lib\\site-packages\\pandas\\plotting\\_matplotlib\\boxplot.py\u001b[0m in \u001b[0;36mboxplot_frame\u001b[1;34m(self, column, by, ax, fontsize, rot, grid, figsize, layout, return_type, **kwds)\u001b[0m\n\u001b[0;32m    378\u001b[0m     \u001b[1;32mimport\u001b[0m \u001b[0mmatplotlib\u001b[0m\u001b[1;33m.\u001b[0m\u001b[0mpyplot\u001b[0m \u001b[1;32mas\u001b[0m \u001b[0mplt\u001b[0m\u001b[1;33m\u001b[0m\u001b[1;33m\u001b[0m\u001b[0m\n\u001b[0;32m    379\u001b[0m \u001b[1;33m\u001b[0m\u001b[0m\n\u001b[1;32m--> 380\u001b[1;33m     ax = boxplot(\n\u001b[0m\u001b[0;32m    381\u001b[0m         \u001b[0mself\u001b[0m\u001b[1;33m,\u001b[0m\u001b[1;33m\u001b[0m\u001b[1;33m\u001b[0m\u001b[0m\n\u001b[0;32m    382\u001b[0m         \u001b[0mcolumn\u001b[0m\u001b[1;33m=\u001b[0m\u001b[0mcolumn\u001b[0m\u001b[1;33m,\u001b[0m\u001b[1;33m\u001b[0m\u001b[1;33m\u001b[0m\u001b[0m\n",
      "\u001b[1;32m~\\anaconda3\\lib\\site-packages\\pandas\\plotting\\_matplotlib\\boxplot.py\u001b[0m in \u001b[0;36mboxplot\u001b[1;34m(data, column, by, ax, fontsize, rot, grid, figsize, layout, return_type, **kwds)\u001b[0m\n\u001b[0;32m    355\u001b[0m             \u001b[0mcolumns\u001b[0m \u001b[1;33m=\u001b[0m \u001b[0mdata\u001b[0m\u001b[1;33m.\u001b[0m\u001b[0mcolumns\u001b[0m\u001b[1;33m\u001b[0m\u001b[1;33m\u001b[0m\u001b[0m\n\u001b[0;32m    356\u001b[0m         \u001b[1;32melse\u001b[0m\u001b[1;33m:\u001b[0m\u001b[1;33m\u001b[0m\u001b[1;33m\u001b[0m\u001b[0m\n\u001b[1;32m--> 357\u001b[1;33m             \u001b[0mdata\u001b[0m \u001b[1;33m=\u001b[0m \u001b[0mdata\u001b[0m\u001b[1;33m[\u001b[0m\u001b[0mcolumns\u001b[0m\u001b[1;33m]\u001b[0m\u001b[1;33m\u001b[0m\u001b[1;33m\u001b[0m\u001b[0m\n\u001b[0m\u001b[0;32m    358\u001b[0m \u001b[1;33m\u001b[0m\u001b[0m\n\u001b[0;32m    359\u001b[0m         \u001b[0mresult\u001b[0m \u001b[1;33m=\u001b[0m \u001b[0mplot_group\u001b[0m\u001b[1;33m(\u001b[0m\u001b[0mcolumns\u001b[0m\u001b[1;33m,\u001b[0m \u001b[0mdata\u001b[0m\u001b[1;33m.\u001b[0m\u001b[0mvalues\u001b[0m\u001b[1;33m.\u001b[0m\u001b[0mT\u001b[0m\u001b[1;33m,\u001b[0m \u001b[0max\u001b[0m\u001b[1;33m)\u001b[0m\u001b[1;33m\u001b[0m\u001b[1;33m\u001b[0m\u001b[0m\n",
      "\u001b[1;32m~\\anaconda3\\lib\\site-packages\\pandas\\core\\frame.py\u001b[0m in \u001b[0;36m__getitem__\u001b[1;34m(self, key)\u001b[0m\n\u001b[0;32m   2906\u001b[0m             \u001b[1;32mif\u001b[0m \u001b[0mis_iterator\u001b[0m\u001b[1;33m(\u001b[0m\u001b[0mkey\u001b[0m\u001b[1;33m)\u001b[0m\u001b[1;33m:\u001b[0m\u001b[1;33m\u001b[0m\u001b[1;33m\u001b[0m\u001b[0m\n\u001b[0;32m   2907\u001b[0m                 \u001b[0mkey\u001b[0m \u001b[1;33m=\u001b[0m \u001b[0mlist\u001b[0m\u001b[1;33m(\u001b[0m\u001b[0mkey\u001b[0m\u001b[1;33m)\u001b[0m\u001b[1;33m\u001b[0m\u001b[1;33m\u001b[0m\u001b[0m\n\u001b[1;32m-> 2908\u001b[1;33m             \u001b[0mindexer\u001b[0m \u001b[1;33m=\u001b[0m \u001b[0mself\u001b[0m\u001b[1;33m.\u001b[0m\u001b[0mloc\u001b[0m\u001b[1;33m.\u001b[0m\u001b[0m_get_listlike_indexer\u001b[0m\u001b[1;33m(\u001b[0m\u001b[0mkey\u001b[0m\u001b[1;33m,\u001b[0m \u001b[0maxis\u001b[0m\u001b[1;33m=\u001b[0m\u001b[1;36m1\u001b[0m\u001b[1;33m,\u001b[0m \u001b[0mraise_missing\u001b[0m\u001b[1;33m=\u001b[0m\u001b[1;32mTrue\u001b[0m\u001b[1;33m)\u001b[0m\u001b[1;33m[\u001b[0m\u001b[1;36m1\u001b[0m\u001b[1;33m]\u001b[0m\u001b[1;33m\u001b[0m\u001b[1;33m\u001b[0m\u001b[0m\n\u001b[0m\u001b[0;32m   2909\u001b[0m \u001b[1;33m\u001b[0m\u001b[0m\n\u001b[0;32m   2910\u001b[0m         \u001b[1;31m# take() does not accept boolean indexers\u001b[0m\u001b[1;33m\u001b[0m\u001b[1;33m\u001b[0m\u001b[1;33m\u001b[0m\u001b[0m\n",
      "\u001b[1;32m~\\anaconda3\\lib\\site-packages\\pandas\\core\\indexing.py\u001b[0m in \u001b[0;36m_get_listlike_indexer\u001b[1;34m(self, key, axis, raise_missing)\u001b[0m\n\u001b[0;32m   1247\u001b[0m \u001b[1;33m\u001b[0m\u001b[0m\n\u001b[0;32m   1248\u001b[0m         \u001b[1;32mif\u001b[0m \u001b[0max\u001b[0m\u001b[1;33m.\u001b[0m\u001b[0mis_unique\u001b[0m \u001b[1;32mand\u001b[0m \u001b[1;32mnot\u001b[0m \u001b[0mgetattr\u001b[0m\u001b[1;33m(\u001b[0m\u001b[0max\u001b[0m\u001b[1;33m,\u001b[0m \u001b[1;34m\"is_overlapping\"\u001b[0m\u001b[1;33m,\u001b[0m \u001b[1;32mFalse\u001b[0m\u001b[1;33m)\u001b[0m\u001b[1;33m:\u001b[0m\u001b[1;33m\u001b[0m\u001b[1;33m\u001b[0m\u001b[0m\n\u001b[1;32m-> 1249\u001b[1;33m             \u001b[0mindexer\u001b[0m \u001b[1;33m=\u001b[0m \u001b[0max\u001b[0m\u001b[1;33m.\u001b[0m\u001b[0mget_indexer_for\u001b[0m\u001b[1;33m(\u001b[0m\u001b[0mkeyarr\u001b[0m\u001b[1;33m)\u001b[0m\u001b[1;33m\u001b[0m\u001b[1;33m\u001b[0m\u001b[0m\n\u001b[0m\u001b[0;32m   1250\u001b[0m             \u001b[0mkeyarr\u001b[0m \u001b[1;33m=\u001b[0m \u001b[0max\u001b[0m\u001b[1;33m.\u001b[0m\u001b[0mreindex\u001b[0m\u001b[1;33m(\u001b[0m\u001b[0mkeyarr\u001b[0m\u001b[1;33m)\u001b[0m\u001b[1;33m[\u001b[0m\u001b[1;36m0\u001b[0m\u001b[1;33m]\u001b[0m\u001b[1;33m\u001b[0m\u001b[1;33m\u001b[0m\u001b[0m\n\u001b[0;32m   1251\u001b[0m         \u001b[1;32melse\u001b[0m\u001b[1;33m:\u001b[0m\u001b[1;33m\u001b[0m\u001b[1;33m\u001b[0m\u001b[0m\n",
      "\u001b[1;32m~\\anaconda3\\lib\\site-packages\\pandas\\core\\indexes\\base.py\u001b[0m in \u001b[0;36mget_indexer_for\u001b[1;34m(self, target, **kwargs)\u001b[0m\n\u001b[0;32m   4711\u001b[0m         \"\"\"\n\u001b[0;32m   4712\u001b[0m         \u001b[1;32mif\u001b[0m \u001b[0mself\u001b[0m\u001b[1;33m.\u001b[0m\u001b[0mis_unique\u001b[0m\u001b[1;33m:\u001b[0m\u001b[1;33m\u001b[0m\u001b[1;33m\u001b[0m\u001b[0m\n\u001b[1;32m-> 4713\u001b[1;33m             \u001b[1;32mreturn\u001b[0m \u001b[0mself\u001b[0m\u001b[1;33m.\u001b[0m\u001b[0mget_indexer\u001b[0m\u001b[1;33m(\u001b[0m\u001b[0mtarget\u001b[0m\u001b[1;33m,\u001b[0m \u001b[1;33m**\u001b[0m\u001b[0mkwargs\u001b[0m\u001b[1;33m)\u001b[0m\u001b[1;33m\u001b[0m\u001b[1;33m\u001b[0m\u001b[0m\n\u001b[0m\u001b[0;32m   4714\u001b[0m         \u001b[0mindexer\u001b[0m\u001b[1;33m,\u001b[0m \u001b[0m_\u001b[0m \u001b[1;33m=\u001b[0m \u001b[0mself\u001b[0m\u001b[1;33m.\u001b[0m\u001b[0mget_indexer_non_unique\u001b[0m\u001b[1;33m(\u001b[0m\u001b[0mtarget\u001b[0m\u001b[1;33m,\u001b[0m \u001b[1;33m**\u001b[0m\u001b[0mkwargs\u001b[0m\u001b[1;33m)\u001b[0m\u001b[1;33m\u001b[0m\u001b[1;33m\u001b[0m\u001b[0m\n\u001b[0;32m   4715\u001b[0m         \u001b[1;32mreturn\u001b[0m \u001b[0mindexer\u001b[0m\u001b[1;33m\u001b[0m\u001b[1;33m\u001b[0m\u001b[0m\n",
      "\u001b[1;32m~\\anaconda3\\lib\\site-packages\\pandas\\core\\indexes\\base.py\u001b[0m in \u001b[0;36mget_indexer\u001b[1;34m(self, target, method, limit, tolerance)\u001b[0m\n\u001b[0;32m   2979\u001b[0m             \u001b[0mthis\u001b[0m \u001b[1;33m=\u001b[0m \u001b[0mself\u001b[0m\u001b[1;33m.\u001b[0m\u001b[0mastype\u001b[0m\u001b[1;33m(\u001b[0m\u001b[0mobject\u001b[0m\u001b[1;33m)\u001b[0m\u001b[1;33m\u001b[0m\u001b[1;33m\u001b[0m\u001b[0m\n\u001b[0;32m   2980\u001b[0m             \u001b[0mtarget\u001b[0m \u001b[1;33m=\u001b[0m \u001b[0mtarget\u001b[0m\u001b[1;33m.\u001b[0m\u001b[0mastype\u001b[0m\u001b[1;33m(\u001b[0m\u001b[0mobject\u001b[0m\u001b[1;33m)\u001b[0m\u001b[1;33m\u001b[0m\u001b[1;33m\u001b[0m\u001b[0m\n\u001b[1;32m-> 2981\u001b[1;33m             return this.get_indexer(\n\u001b[0m\u001b[0;32m   2982\u001b[0m                 \u001b[0mtarget\u001b[0m\u001b[1;33m,\u001b[0m \u001b[0mmethod\u001b[0m\u001b[1;33m=\u001b[0m\u001b[0mmethod\u001b[0m\u001b[1;33m,\u001b[0m \u001b[0mlimit\u001b[0m\u001b[1;33m=\u001b[0m\u001b[0mlimit\u001b[0m\u001b[1;33m,\u001b[0m \u001b[0mtolerance\u001b[0m\u001b[1;33m=\u001b[0m\u001b[0mtolerance\u001b[0m\u001b[1;33m\u001b[0m\u001b[1;33m\u001b[0m\u001b[0m\n\u001b[0;32m   2983\u001b[0m             )\n",
      "\u001b[1;32m~\\anaconda3\\lib\\site-packages\\pandas\\core\\indexes\\base.py\u001b[0m in \u001b[0;36mget_indexer\u001b[1;34m(self, target, method, limit, tolerance)\u001b[0m\n\u001b[0;32m   3004\u001b[0m                 )\n\u001b[0;32m   3005\u001b[0m \u001b[1;33m\u001b[0m\u001b[0m\n\u001b[1;32m-> 3006\u001b[1;33m             \u001b[0mindexer\u001b[0m \u001b[1;33m=\u001b[0m \u001b[0mself\u001b[0m\u001b[1;33m.\u001b[0m\u001b[0m_engine\u001b[0m\u001b[1;33m.\u001b[0m\u001b[0mget_indexer\u001b[0m\u001b[1;33m(\u001b[0m\u001b[0mtarget\u001b[0m\u001b[1;33m.\u001b[0m\u001b[0m_get_engine_target\u001b[0m\u001b[1;33m(\u001b[0m\u001b[1;33m)\u001b[0m\u001b[1;33m)\u001b[0m\u001b[1;33m\u001b[0m\u001b[1;33m\u001b[0m\u001b[0m\n\u001b[0m\u001b[0;32m   3007\u001b[0m \u001b[1;33m\u001b[0m\u001b[0m\n\u001b[0;32m   3008\u001b[0m         \u001b[1;32mreturn\u001b[0m \u001b[0mensure_platform_int\u001b[0m\u001b[1;33m(\u001b[0m\u001b[0mindexer\u001b[0m\u001b[1;33m)\u001b[0m\u001b[1;33m\u001b[0m\u001b[1;33m\u001b[0m\u001b[0m\n",
      "\u001b[1;32mpandas\\_libs\\index.pyx\u001b[0m in \u001b[0;36mpandas._libs.index.IndexEngine.get_indexer\u001b[1;34m()\u001b[0m\n",
      "\u001b[1;32mpandas\\_libs\\hashtable_class_helper.pxi\u001b[0m in \u001b[0;36mpandas._libs.hashtable.PyObjectHashTable.lookup\u001b[1;34m()\u001b[0m\n",
      "\u001b[1;31mTypeError\u001b[0m: unhashable type: 'dict'"
     ]
    },
    {
     "data": {
      "image/png": "[encoded data removed]",
      "text/plain": [
       "<Figure size 432x288 with 1 Axes>"
      ]
     },
     "metadata": {
      "needs_background": "light"
     },
     "output_type": "display_data"
    }
   ],
   "source": []
  },
  {
   "cell_type": "code",
   "execution_count": null,
   "metadata": {},
   "outputs": [],
   "source": []
  }
 ],
 "metadata": {
  "kernelspec": {
   "display_name": "Python 3",
   "language": "python",
   "name": "python3"
  },
  "language_info": {
   "codemirror_mode": {
    "name": "ipython",
    "version": 3
   },
   "file_extension": ".py",
   "mimetype": "text/x-python",
   "name": "python",
   "nbconvert_exporter": "python",
   "pygments_lexer": "ipython3",
   "version": "3.8.5"
  }
 },
 "nbformat": 4,
 "nbformat_minor": 4
}
